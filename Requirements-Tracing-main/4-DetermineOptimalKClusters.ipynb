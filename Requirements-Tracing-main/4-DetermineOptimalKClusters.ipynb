{
 "cells": [
  {
   "cell_type": "code",
   "execution_count": null,
   "metadata": {},
   "outputs": [],
   "source": [
    "# import packages\n",
    "import numpy as np\n",
    "import pandas as pd\n",
    "import pickle"
   ]
  },
  {
   "cell_type": "markdown",
   "metadata": {},
   "source": [
    "# Load grouped data by component from saved pickle"
   ]
  },
  {
   "cell_type": "code",
   "execution_count": null,
   "metadata": {},
   "outputs": [],
   "source": [
    "# Load grouped data by component from saved pickle\n",
    "\n",
    "with open(\"DummyPreproccessedForTfidf.pickle\", \"rb\") as pickle_file:\n",
    "    grouped_data = pickle.load(pickle_file)\n",
    "    \n",
    "    \n",
    "with open(\"VectorizationTfidf.pickle\", \"rb\") as pickle_file:\n",
    "    group_X = pickle.load(pickle_file)"
   ]
  },
  {
   "cell_type": "code",
   "execution_count": null,
   "metadata": {},
   "outputs": [],
   "source": [
    "### Load Doc2Vec Pickles ###\n",
    "\n",
    "# with open(\"DummyPreproccessedForDoc2Vec.pickle\", \"rb\") as pickle_file:\n",
    "#     grouped_data = pickle.load(pickle_file)\n",
    "    \n",
    "    \n",
    "# with open(\"VectorizationDoc2Vec.pickle\", \"rb\") as pickle_file:\n",
    "#     group_X = pickle.load(pickle_file)"
   ]
  },
  {
   "cell_type": "code",
   "execution_count": null,
   "metadata": {},
   "outputs": [],
   "source": [
    "g = 'ALPHA'"
   ]
  },
  {
   "cell_type": "markdown",
   "metadata": {},
   "source": [
    "# Determine optimal K clusters"
   ]
  },
  {
   "cell_type": "code",
   "execution_count": null,
   "metadata": {},
   "outputs": [],
   "source": [
    "### Determining optimal K clusters ###\n",
    "# Uses elbow method and silhouette coefficient\n",
    "# This takes a while...\n",
    "from sklearn.metrics import silhouette_score\n",
    "from sklearn.cluster import KMeans\n",
    "\n",
    "silhouette_coefficients = []\n",
    "Sum_of_squared_distances = []\n",
    "K = range(2, 100)\n",
    "kmeans_kwargs = {\n",
    "         \"init\": \"random\",\n",
    "         \"n_init\": 10,\n",
    "         \"max_iter\": 300,\n",
    "         \"random_state\": 42,\n",
    "     }\n",
    "for k in K: \n",
    "    km = KMeans(n_clusters=k, **kmeans_kwargs)\n",
    "    km = km.fit(group_X[g])\n",
    "    Sum_of_squared_distances.append(km.inertia_)\n",
    "#     print(km.labels_)\n",
    "    score = silhouette_score(group_X[g], km.labels_)\n",
    "    silhouette_coefficients.append(score)\n",
    "    \n",
    "    \n",
    "### One method to find the elbow is to ###\n",
    "### find the point where the slope changes the most (optimize 2nd derivative). ###\n",
    "dx_sum_of_squared_distances = np.diff(np.asarray(Sum_of_squared_distances))\n",
    "dx2_sum_of_squared_distances = np.diff(dx_sum_of_squared_distances)\n",
    "elbow_max = max(dx2_sum_of_squared_distances)\n",
    "elbow_index = list(dx2_sum_of_squared_distances).index(elbow_max) + 1 + min(K)\n",
    "print(f'# of Clusters using Elbow Method = {elbow_index}.')\n",
    "    \n",
    "import matplotlib.pyplot as plt\n",
    "\n",
    "plt.plot(K, Sum_of_squared_distances, 'bx-')\n",
    "plt.xlabel('k')\n",
    "plt.ylabel('Sum_of_squared_distances')\n",
    "plt.title('Elbow Method For Optimal k')\n",
    "plt.show()"
   ]
  },
  {
   "cell_type": "code",
   "execution_count": null,
   "metadata": {},
   "outputs": [],
   "source": [
    "plt.style.use(\"fivethirtyeight\")\n",
    "plt.plot(K, silhouette_coefficients)\n",
    "plt.xticks(K)\n",
    "plt.xlabel(\"Number of Clusters\")\n",
    "plt.ylabel(\"Silhouette Coefficient\")\n",
    "plt.show()"
   ]
  },
  {
   "cell_type": "code",
   "execution_count": null,
   "metadata": {},
   "outputs": [],
   "source": [
    "silhouette_coefficients\n",
    "\n",
    "max_value = max(silhouette_coefficients)\n",
    "max_index = silhouette_coefficients.index(max_value)\n",
    "print(f'# of Clusters using Silhouette Coefficient = {max_index}.')"
   ]
  },
  {
   "cell_type": "markdown",
   "metadata": {},
   "source": [
    "## Plot Again"
   ]
  },
  {
   "cell_type": "code",
   "execution_count": null,
   "metadata": {},
   "outputs": [],
   "source": [
    "import matplotlib.pyplot as plt\n",
    "\n",
    "plt.plot(K,Sum_of_squared_distances, 'bx-')\n",
    "plt.axvline(x=elbow_index)\n",
    "plt.axvline(x=max_index)\n",
    "plt.xlabel('k')\n",
    "plt.ylabel('Sum_of_squared_distances')\n",
    "plt.title('Elbow Method For Optimal k')\n",
    "plt.show()\n",
    "\n",
    "plt.style.use(\"fivethirtyeight\")\n",
    "plt.plot(K, silhouette_coefficients)\n",
    "plt.axvline(x=elbow_index)\n",
    "plt.axvline(x=max_index)\n",
    "plt.xticks(K)\n",
    "plt.xlabel(\"Number of Clusters\")\n",
    "plt.ylabel(\"Silhouette Coefficient\")\n",
    "plt.show()"
   ]
  }
 ],
 "metadata": {
  "kernelspec": {
   "display_name": "Python 3",
   "language": "python",
   "name": "python3"
  },
  "language_info": {
   "codemirror_mode": {
    "name": "ipython",
    "version": 3
   },
   "file_extension": ".py",
   "mimetype": "text/x-python",
   "name": "python",
   "nbconvert_exporter": "python",
   "pygments_lexer": "ipython3",
   "version": "3.9.10"
  }
 },
 "nbformat": 4,
 "nbformat_minor": 5
}
